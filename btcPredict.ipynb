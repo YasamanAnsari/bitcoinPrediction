{
 "cells": [
  {
   "cell_type": "code",
   "execution_count": 2,
   "metadata": {
    "id": "B0EoUtVoVmtb"
   },
   "outputs": [],
   "source": [
    "import pandas as pd\n",
    "import matplotlib.pyplot as plt"
   ]
  },
  {
   "cell_type": "code",
   "execution_count": 3,
   "metadata": {
    "id": "Iue-xtHNVqmH"
   },
   "outputs": [],
   "source": [
    "gld = pd.read_csv('gld.csv')\n",
    "btc = pd.read_csv('btc.csv')"
   ]
  },
  {
   "cell_type": "code",
   "execution_count": 4,
   "metadata": {
    "id": "as2IihRtYym6"
   },
   "outputs": [],
   "source": [
    "gld.Date = pd.to_datetime(gld.Date)\n",
    "btc.Date = pd.to_datetime(btc.Date)"
   ]
  },
  {
   "cell_type": "code",
   "execution_count": 5,
   "metadata": {
    "id": "W-TnjCXZZFBU"
   },
   "outputs": [],
   "source": [
    "gld.sort_values(by = 'Date', inplace = True)\n",
    "btc.sort_values(by = 'Date', inplace = True)"
   ]
  },
  {
   "cell_type": "code",
   "execution_count": 6,
   "metadata": {
    "id": "iztE8sjHZRI8"
   },
   "outputs": [],
   "source": [
    "btc = btc[[\"Date\", \"Open\", \"Close\", \"High\", \"Low\", \"Volume\"]].rename(columns = {\"Close\":\"Price\", \"Volume\":\"Vol\"})"
   ]
  },
  {
   "cell_type": "code",
   "execution_count": 7,
   "metadata": {
    "id": "TsOI3p0oZzSy"
   },
   "outputs": [],
   "source": [
    "gld = gld[[\"Date\", \"Open\", \"Price\", \"High\", \"Low\", \"Vol.\"]].rename(columns = {\"Vol.\":\"Vol\"})"
   ]
  },
  {
   "cell_type": "code",
   "execution_count": 8,
   "metadata": {
    "id": "Iw-6W7kAaTLO"
   },
   "outputs": [],
   "source": [
    "btc = btc.set_index(\"Date\").loc[list(gld[\"Date\"])]"
   ]
  },
  {
   "cell_type": "code",
   "execution_count": 9,
   "metadata": {
    "id": "n0OM6nF8Z0Lw"
   },
   "outputs": [],
   "source": [
    "gld.set_index(\"Date\", inplace = True)"
   ]
  },
  {
   "cell_type": "code",
   "execution_count": 10,
   "metadata": {
    "id": "a9wuFBn2ac2E"
   },
   "outputs": [],
   "source": [
    "null_indexes = btc.loc[btc.isna()[\"Price\"]].index"
   ]
  },
  {
   "cell_type": "code",
   "execution_count": 11,
   "metadata": {
    "id": "e3mu9qwfbFZB"
   },
   "outputs": [],
   "source": [
    "btc.drop(null_indexes, inplace=True)\n",
    "gld.drop(null_indexes, inplace=True)"
   ]
  },
  {
   "cell_type": "code",
   "execution_count": 12,
   "metadata": {
    "id": "PB1XYLfwbm4K"
   },
   "outputs": [],
   "source": [
    "btc.drop(btc.loc[\"2021-10-19\",:].name, inplace = True)\n",
    "gld.drop(gld.loc[\"2021-10-19\",:].name, inplace = True)"
   ]
  },
  {
   "cell_type": "code",
   "execution_count": 13,
   "metadata": {
    "id": "j8gEKH9rdOyo"
   },
   "outputs": [],
   "source": [
    "gld_dash_indexes = gld[(gld == '-').any(axis = 1)].index"
   ]
  },
  {
   "cell_type": "code",
   "execution_count": 14,
   "metadata": {
    "id": "4-eUEDqmbnR0"
   },
   "outputs": [],
   "source": [
    "btc.drop(gld_dash_indexes, inplace=True)\n",
    "gld.drop(gld_dash_indexes, inplace=True)"
   ]
  },
  {
   "cell_type": "code",
   "execution_count": 15,
   "metadata": {
    "id": "baVawpTdbnl0"
   },
   "outputs": [],
   "source": [
    "gld[\"Vol\"].replace(regex = 'K', value = '', inplace = True)"
   ]
  },
  {
   "cell_type": "code",
   "execution_count": 16,
   "metadata": {
    "id": "7BkHINZXd65a"
   },
   "outputs": [],
   "source": [
    "gld.replace(regex = ',', value = '', inplace = True)"
   ]
  },
  {
   "cell_type": "code",
   "execution_count": 17,
   "metadata": {
    "id": "DyCKw2iud6-M"
   },
   "outputs": [],
   "source": [
    "gld = gld.astype({\"Price\":\"float32\",\"High\":\"float32\",\"Low\":\"float32\",\"Vol\":\"float32\",\"Open\":\"float32\"})"
   ]
  },
  {
   "cell_type": "code",
   "execution_count": 18,
   "metadata": {
    "colab": {
     "base_uri": "https://localhost:8080/",
     "height": 300
    },
    "id": "6DHGTTGzd7Ad",
    "outputId": "0d999228-7834-42c4-d5ca-ee4439201216"
   },
   "outputs": [
    {
     "data": {
      "text/html": [
       "<div>\n",
       "<style scoped>\n",
       "    .dataframe tbody tr th:only-of-type {\n",
       "        vertical-align: middle;\n",
       "    }\n",
       "\n",
       "    .dataframe tbody tr th {\n",
       "        vertical-align: top;\n",
       "    }\n",
       "\n",
       "    .dataframe thead th {\n",
       "        text-align: right;\n",
       "    }\n",
       "</style>\n",
       "<table border=\"1\" class=\"dataframe\">\n",
       "  <thead>\n",
       "    <tr style=\"text-align: right;\">\n",
       "      <th></th>\n",
       "      <th>Open</th>\n",
       "      <th>Price</th>\n",
       "      <th>High</th>\n",
       "      <th>Low</th>\n",
       "      <th>Vol</th>\n",
       "    </tr>\n",
       "  </thead>\n",
       "  <tbody>\n",
       "    <tr>\n",
       "      <th>count</th>\n",
       "      <td>1455.000000</td>\n",
       "      <td>1455.000000</td>\n",
       "      <td>1455.000000</td>\n",
       "      <td>1455.000000</td>\n",
       "      <td>1455.000000</td>\n",
       "    </tr>\n",
       "    <tr>\n",
       "      <th>mean</th>\n",
       "      <td>1495.827637</td>\n",
       "      <td>1497.147827</td>\n",
       "      <td>1499.398682</td>\n",
       "      <td>1491.770752</td>\n",
       "      <td>14.368081</td>\n",
       "    </tr>\n",
       "    <tr>\n",
       "      <th>std</th>\n",
       "      <td>223.825928</td>\n",
       "      <td>223.969437</td>\n",
       "      <td>228.006592</td>\n",
       "      <td>218.820251</td>\n",
       "      <td>49.915520</td>\n",
       "    </tr>\n",
       "    <tr>\n",
       "      <th>min</th>\n",
       "      <td>1123.000000</td>\n",
       "      <td>1123.000000</td>\n",
       "      <td>1123.000000</td>\n",
       "      <td>1123.000000</td>\n",
       "      <td>0.000000</td>\n",
       "    </tr>\n",
       "    <tr>\n",
       "      <th>25%</th>\n",
       "      <td>1326.800049</td>\n",
       "      <td>1326.800049</td>\n",
       "      <td>1326.800049</td>\n",
       "      <td>1326.800049</td>\n",
       "      <td>0.020000</td>\n",
       "    </tr>\n",
       "    <tr>\n",
       "      <th>50%</th>\n",
       "      <td>1394.800049</td>\n",
       "      <td>1394.800049</td>\n",
       "      <td>1394.800049</td>\n",
       "      <td>1394.800049</td>\n",
       "      <td>0.100000</td>\n",
       "    </tr>\n",
       "    <tr>\n",
       "      <th>75%</th>\n",
       "      <td>1725.900024</td>\n",
       "      <td>1726.500000</td>\n",
       "      <td>1732.799988</td>\n",
       "      <td>1712.000000</td>\n",
       "      <td>0.540000</td>\n",
       "    </tr>\n",
       "    <tr>\n",
       "      <th>max</th>\n",
       "      <td>2120.000000</td>\n",
       "      <td>2103.199951</td>\n",
       "      <td>2120.000000</td>\n",
       "      <td>2085.899902</td>\n",
       "      <td>385.890015</td>\n",
       "    </tr>\n",
       "  </tbody>\n",
       "</table>\n",
       "</div>"
      ],
      "text/plain": [
       "              Open        Price         High          Low          Vol\n",
       "count  1455.000000  1455.000000  1455.000000  1455.000000  1455.000000\n",
       "mean   1495.827637  1497.147827  1499.398682  1491.770752    14.368081\n",
       "std     223.825928   223.969437   228.006592   218.820251    49.915520\n",
       "min    1123.000000  1123.000000  1123.000000  1123.000000     0.000000\n",
       "25%    1326.800049  1326.800049  1326.800049  1326.800049     0.020000\n",
       "50%    1394.800049  1394.800049  1394.800049  1394.800049     0.100000\n",
       "75%    1725.900024  1726.500000  1732.799988  1712.000000     0.540000\n",
       "max    2120.000000  2103.199951  2120.000000  2085.899902   385.890015"
      ]
     },
     "execution_count": 18,
     "metadata": {},
     "output_type": "execute_result"
    }
   ],
   "source": [
    "gld.describe()"
   ]
  },
  {
   "cell_type": "code",
   "execution_count": 19,
   "metadata": {
    "colab": {
     "base_uri": "https://localhost:8080/",
     "height": 300
    },
    "id": "2bzhLAkxd7Cu",
    "outputId": "00c07219-08f9-4396-fbfb-5e51de682f6b"
   },
   "outputs": [
    {
     "data": {
      "text/html": [
       "<div>\n",
       "<style scoped>\n",
       "    .dataframe tbody tr th:only-of-type {\n",
       "        vertical-align: middle;\n",
       "    }\n",
       "\n",
       "    .dataframe tbody tr th {\n",
       "        vertical-align: top;\n",
       "    }\n",
       "\n",
       "    .dataframe thead th {\n",
       "        text-align: right;\n",
       "    }\n",
       "</style>\n",
       "<table border=\"1\" class=\"dataframe\">\n",
       "  <thead>\n",
       "    <tr style=\"text-align: right;\">\n",
       "      <th></th>\n",
       "      <th>Open</th>\n",
       "      <th>Price</th>\n",
       "      <th>High</th>\n",
       "      <th>Low</th>\n",
       "      <th>Vol</th>\n",
       "    </tr>\n",
       "  </thead>\n",
       "  <tbody>\n",
       "    <tr>\n",
       "      <th>count</th>\n",
       "      <td>1455.000000</td>\n",
       "      <td>1455.000000</td>\n",
       "      <td>1455.000000</td>\n",
       "      <td>1455.000000</td>\n",
       "      <td>1.455000e+03</td>\n",
       "    </tr>\n",
       "    <tr>\n",
       "      <th>mean</th>\n",
       "      <td>11473.900337</td>\n",
       "      <td>11509.522745</td>\n",
       "      <td>11826.923989</td>\n",
       "      <td>11100.238113</td>\n",
       "      <td>1.753716e+10</td>\n",
       "    </tr>\n",
       "    <tr>\n",
       "      <th>std</th>\n",
       "      <td>14523.439955</td>\n",
       "      <td>14575.299455</td>\n",
       "      <td>15010.281565</td>\n",
       "      <td>13997.380194</td>\n",
       "      <td>2.206237e+10</td>\n",
       "    </tr>\n",
       "    <tr>\n",
       "      <th>min</th>\n",
       "      <td>369.350006</td>\n",
       "      <td>364.330994</td>\n",
       "      <td>374.950012</td>\n",
       "      <td>364.330994</td>\n",
       "      <td>3.404250e+07</td>\n",
       "    </tr>\n",
       "    <tr>\n",
       "      <th>25%</th>\n",
       "      <td>2457.905029</td>\n",
       "      <td>2471.515014</td>\n",
       "      <td>2546.184936</td>\n",
       "      <td>2327.180054</td>\n",
       "      <td>1.113985e+09</td>\n",
       "    </tr>\n",
       "    <tr>\n",
       "      <th>50%</th>\n",
       "      <td>7173.729980</td>\n",
       "      <td>7217.427246</td>\n",
       "      <td>7363.529297</td>\n",
       "      <td>6970.819824</td>\n",
       "      <td>7.931219e+09</td>\n",
       "    </tr>\n",
       "    <tr>\n",
       "      <th>75%</th>\n",
       "      <td>10682.477539</td>\n",
       "      <td>10679.987305</td>\n",
       "      <td>10922.776856</td>\n",
       "      <td>10300.423828</td>\n",
       "      <td>2.761437e+10</td>\n",
       "    </tr>\n",
       "    <tr>\n",
       "      <th>max</th>\n",
       "      <td>63523.753906</td>\n",
       "      <td>63503.457031</td>\n",
       "      <td>64863.097656</td>\n",
       "      <td>62208.964844</td>\n",
       "      <td>3.509679e+11</td>\n",
       "    </tr>\n",
       "  </tbody>\n",
       "</table>\n",
       "</div>"
      ],
      "text/plain": [
       "               Open         Price          High           Low           Vol\n",
       "count   1455.000000   1455.000000   1455.000000   1455.000000  1.455000e+03\n",
       "mean   11473.900337  11509.522745  11826.923989  11100.238113  1.753716e+10\n",
       "std    14523.439955  14575.299455  15010.281565  13997.380194  2.206237e+10\n",
       "min      369.350006    364.330994    374.950012    364.330994  3.404250e+07\n",
       "25%     2457.905029   2471.515014   2546.184936   2327.180054  1.113985e+09\n",
       "50%     7173.729980   7217.427246   7363.529297   6970.819824  7.931219e+09\n",
       "75%    10682.477539  10679.987305  10922.776856  10300.423828  2.761437e+10\n",
       "max    63523.753906  63503.457031  64863.097656  62208.964844  3.509679e+11"
      ]
     },
     "execution_count": 19,
     "metadata": {},
     "output_type": "execute_result"
    }
   ],
   "source": [
    "btc.describe()"
   ]
  },
  {
   "cell_type": "code",
   "execution_count": 20,
   "metadata": {
    "id": "RrCGo2ZRfn8e"
   },
   "outputs": [],
   "source": [
    "df_results = pd.concat([btc[\"Price\"], btc[\"Price\"].shift(1), btc[\"Price\"].shift(2), btc[\"Price\"].shift(3), btc[\"Price\"].shift(4), btc[\"Price\"].shift(5), btc[\"Vol\"], btc[\"Vol\"].shift(1), btc[\"Vol\"].shift(2), btc[\"Vol\"].shift(3), btc[\"Vol\"].shift(4), btc[\"Vol\"].shift(5)], axis = 1, keys = ['p','p_1','p_2','p_3','p_4','p_5', 'v', 'v_1', 'v_2', 'v_3', 'v_4', 'v_5']).iloc[5:,:]"
   ]
  },
  {
   "cell_type": "code",
   "execution_count": 21,
   "metadata": {
    "id": "SH17_08GhRgR"
   },
   "outputs": [],
   "source": [
    "train, test = df_results.iloc[:1200, :], df_results.iloc[1200:, :]"
   ]
  },
  {
   "cell_type": "code",
   "execution_count": 22,
   "metadata": {
    "id": "zMPu1eCRhaXi"
   },
   "outputs": [],
   "source": [
    "x_test = test.drop([\"p\", \"v\"], axis = 1)\n",
    "y_test = test[[\"p\"]]\n",
    "x_train = train.drop([\"p\", \"v\"], axis = 1)\n",
    "y_train = train[[\"p\"]]"
   ]
  },
  {
   "cell_type": "code",
   "execution_count": 23,
   "metadata": {
    "colab": {
     "base_uri": "https://localhost:8080/"
    },
    "id": "Kzui7KAkhtso",
    "outputId": "1dfce3b1-487b-4ec9-bd2d-ed67d13cd96b"
   },
   "outputs": [
    {
     "name": "stderr",
     "output_type": "stream",
     "text": [
      "C:\\Users\\jas\\AppData\\Local\\Programs\\Python\\Python38\\lib\\site-packages\\sklearn\\linear_model\\_coordinate_descent.py:530: ConvergenceWarning: Objective did not converge. You might want to increase the number of iterations. Duality gap: 82487455.90250626, tolerance: 1919461.1348017354\n",
      "  model = cd_fast.enet_coordinate_descent(\n"
     ]
    }
   ],
   "source": [
    "from sklearn.linear_model import ElasticNet\n",
    "elastic = ElasticNet()\n",
    "elastic.fit(x_train, y_train)\n",
    "y_predicted = elastic.predict(x_test)"
   ]
  },
  {
   "cell_type": "code",
   "execution_count": 24,
   "metadata": {
    "id": "o_nXkpzNiAZE"
   },
   "outputs": [],
   "source": [
    "df = pd.concat([test, pd.DataFrame(y_predicted, index = test.index, columns=[\"predicted\"])], axis = 1)"
   ]
  },
  {
   "cell_type": "code",
   "execution_count": 25,
   "metadata": {
    "colab": {
     "base_uri": "https://localhost:8080/",
     "height": 475
    },
    "id": "5V6FMKwjiZo5",
    "outputId": "63c8f666-d84b-4fc7-dc73-7e0511359082"
   },
   "outputs": [
    {
     "data": {
      "text/html": [
       "<div>\n",
       "<style scoped>\n",
       "    .dataframe tbody tr th:only-of-type {\n",
       "        vertical-align: middle;\n",
       "    }\n",
       "\n",
       "    .dataframe tbody tr th {\n",
       "        vertical-align: top;\n",
       "    }\n",
       "\n",
       "    .dataframe thead th {\n",
       "        text-align: right;\n",
       "    }\n",
       "</style>\n",
       "<table border=\"1\" class=\"dataframe\">\n",
       "  <thead>\n",
       "    <tr style=\"text-align: right;\">\n",
       "      <th></th>\n",
       "      <th>p</th>\n",
       "      <th>p_1</th>\n",
       "      <th>p_2</th>\n",
       "      <th>p_3</th>\n",
       "      <th>p_4</th>\n",
       "      <th>p_5</th>\n",
       "      <th>v</th>\n",
       "      <th>v_1</th>\n",
       "      <th>v_2</th>\n",
       "      <th>v_3</th>\n",
       "      <th>v_4</th>\n",
       "      <th>v_5</th>\n",
       "      <th>predicted</th>\n",
       "    </tr>\n",
       "    <tr>\n",
       "      <th>Date</th>\n",
       "      <th></th>\n",
       "      <th></th>\n",
       "      <th></th>\n",
       "      <th></th>\n",
       "      <th></th>\n",
       "      <th></th>\n",
       "      <th></th>\n",
       "      <th></th>\n",
       "      <th></th>\n",
       "      <th></th>\n",
       "      <th></th>\n",
       "      <th></th>\n",
       "      <th></th>\n",
       "    </tr>\n",
       "  </thead>\n",
       "  <tbody>\n",
       "    <tr>\n",
       "      <th>2020-10-21</th>\n",
       "      <td>12823.689453</td>\n",
       "      <td>11916.334961</td>\n",
       "      <td>11742.037109</td>\n",
       "      <td>11322.123047</td>\n",
       "      <td>11495.349609</td>\n",
       "      <td>11429.506836</td>\n",
       "      <td>4.341471e+10</td>\n",
       "      <td>3.091582e+10</td>\n",
       "      <td>2.386077e+10</td>\n",
       "      <td>2.563548e+10</td>\n",
       "      <td>2.448723e+10</td>\n",
       "      <td>2.410343e+10</td>\n",
       "      <td>11872.911698</td>\n",
       "    </tr>\n",
       "    <tr>\n",
       "      <th>2020-10-22</th>\n",
       "      <td>12965.891602</td>\n",
       "      <td>12823.689453</td>\n",
       "      <td>11916.334961</td>\n",
       "      <td>11742.037109</td>\n",
       "      <td>11322.123047</td>\n",
       "      <td>11495.349609</td>\n",
       "      <td>3.472976e+10</td>\n",
       "      <td>4.341471e+10</td>\n",
       "      <td>3.091582e+10</td>\n",
       "      <td>2.386077e+10</td>\n",
       "      <td>2.563548e+10</td>\n",
       "      <td>2.448723e+10</td>\n",
       "      <td>12797.198359</td>\n",
       "    </tr>\n",
       "    <tr>\n",
       "      <th>2020-10-23</th>\n",
       "      <td>12931.539063</td>\n",
       "      <td>12965.891602</td>\n",
       "      <td>12823.689453</td>\n",
       "      <td>11916.334961</td>\n",
       "      <td>11742.037109</td>\n",
       "      <td>11322.123047</td>\n",
       "      <td>2.897498e+10</td>\n",
       "      <td>3.472976e+10</td>\n",
       "      <td>4.341471e+10</td>\n",
       "      <td>3.091582e+10</td>\n",
       "      <td>2.386077e+10</td>\n",
       "      <td>2.563548e+10</td>\n",
       "      <td>12985.788904</td>\n",
       "    </tr>\n",
       "    <tr>\n",
       "      <th>2020-10-26</th>\n",
       "      <td>13075.248047</td>\n",
       "      <td>12931.539063</td>\n",
       "      <td>12965.891602</td>\n",
       "      <td>12823.689453</td>\n",
       "      <td>11916.334961</td>\n",
       "      <td>11742.037109</td>\n",
       "      <td>2.946146e+10</td>\n",
       "      <td>2.897498e+10</td>\n",
       "      <td>3.472976e+10</td>\n",
       "      <td>4.341471e+10</td>\n",
       "      <td>3.091582e+10</td>\n",
       "      <td>2.386077e+10</td>\n",
       "      <td>12907.444094</td>\n",
       "    </tr>\n",
       "    <tr>\n",
       "      <th>2020-10-27</th>\n",
       "      <td>13654.218750</td>\n",
       "      <td>13075.248047</td>\n",
       "      <td>12931.539063</td>\n",
       "      <td>12965.891602</td>\n",
       "      <td>12823.689453</td>\n",
       "      <td>11916.334961</td>\n",
       "      <td>3.374988e+10</td>\n",
       "      <td>2.946146e+10</td>\n",
       "      <td>2.897498e+10</td>\n",
       "      <td>3.472976e+10</td>\n",
       "      <td>4.341471e+10</td>\n",
       "      <td>3.091582e+10</td>\n",
       "      <td>13005.293406</td>\n",
       "    </tr>\n",
       "    <tr>\n",
       "      <th>...</th>\n",
       "      <td>...</td>\n",
       "      <td>...</td>\n",
       "      <td>...</td>\n",
       "      <td>...</td>\n",
       "      <td>...</td>\n",
       "      <td>...</td>\n",
       "      <td>...</td>\n",
       "      <td>...</td>\n",
       "      <td>...</td>\n",
       "      <td>...</td>\n",
       "      <td>...</td>\n",
       "      <td>...</td>\n",
       "      <td>...</td>\n",
       "    </tr>\n",
       "    <tr>\n",
       "      <th>2021-10-12</th>\n",
       "      <td>56041.058594</td>\n",
       "      <td>57484.789063</td>\n",
       "      <td>53967.847656</td>\n",
       "      <td>53805.984375</td>\n",
       "      <td>55361.449219</td>\n",
       "      <td>51514.812500</td>\n",
       "      <td>4.108376e+10</td>\n",
       "      <td>4.263733e+10</td>\n",
       "      <td>3.480087e+10</td>\n",
       "      <td>3.680786e+10</td>\n",
       "      <td>4.903473e+10</td>\n",
       "      <td>3.587390e+10</td>\n",
       "      <td>56843.062005</td>\n",
       "    </tr>\n",
       "    <tr>\n",
       "      <th>2021-10-13</th>\n",
       "      <td>57401.097656</td>\n",
       "      <td>56041.058594</td>\n",
       "      <td>57484.789063</td>\n",
       "      <td>53967.847656</td>\n",
       "      <td>53805.984375</td>\n",
       "      <td>55361.449219</td>\n",
       "      <td>4.168425e+10</td>\n",
       "      <td>4.108376e+10</td>\n",
       "      <td>4.263733e+10</td>\n",
       "      <td>3.480087e+10</td>\n",
       "      <td>3.680786e+10</td>\n",
       "      <td>4.903473e+10</td>\n",
       "      <td>56093.497858</td>\n",
       "    </tr>\n",
       "    <tr>\n",
       "      <th>2021-10-14</th>\n",
       "      <td>57321.523438</td>\n",
       "      <td>57401.097656</td>\n",
       "      <td>56041.058594</td>\n",
       "      <td>57484.789063</td>\n",
       "      <td>53967.847656</td>\n",
       "      <td>53805.984375</td>\n",
       "      <td>3.661579e+10</td>\n",
       "      <td>4.168425e+10</td>\n",
       "      <td>4.108376e+10</td>\n",
       "      <td>4.263733e+10</td>\n",
       "      <td>3.480087e+10</td>\n",
       "      <td>3.680786e+10</td>\n",
       "      <td>57295.301234</td>\n",
       "    </tr>\n",
       "    <tr>\n",
       "      <th>2021-10-15</th>\n",
       "      <td>61593.949219</td>\n",
       "      <td>57321.523438</td>\n",
       "      <td>57401.097656</td>\n",
       "      <td>56041.058594</td>\n",
       "      <td>57484.789063</td>\n",
       "      <td>53967.847656</td>\n",
       "      <td>5.178008e+10</td>\n",
       "      <td>3.661579e+10</td>\n",
       "      <td>4.168425e+10</td>\n",
       "      <td>4.108376e+10</td>\n",
       "      <td>4.263733e+10</td>\n",
       "      <td>3.480087e+10</td>\n",
       "      <td>56885.615246</td>\n",
       "    </tr>\n",
       "    <tr>\n",
       "      <th>2021-10-18</th>\n",
       "      <td>62026.078125</td>\n",
       "      <td>61593.949219</td>\n",
       "      <td>57321.523438</td>\n",
       "      <td>57401.097656</td>\n",
       "      <td>56041.058594</td>\n",
       "      <td>57484.789063</td>\n",
       "      <td>3.805556e+10</td>\n",
       "      <td>5.178008e+10</td>\n",
       "      <td>3.661579e+10</td>\n",
       "      <td>4.168425e+10</td>\n",
       "      <td>4.108376e+10</td>\n",
       "      <td>4.263733e+10</td>\n",
       "      <td>61259.372469</td>\n",
       "    </tr>\n",
       "  </tbody>\n",
       "</table>\n",
       "<p>250 rows × 13 columns</p>\n",
       "</div>"
      ],
      "text/plain": [
       "                       p           p_1           p_2           p_3  \\\n",
       "Date                                                                 \n",
       "2020-10-21  12823.689453  11916.334961  11742.037109  11322.123047   \n",
       "2020-10-22  12965.891602  12823.689453  11916.334961  11742.037109   \n",
       "2020-10-23  12931.539063  12965.891602  12823.689453  11916.334961   \n",
       "2020-10-26  13075.248047  12931.539063  12965.891602  12823.689453   \n",
       "2020-10-27  13654.218750  13075.248047  12931.539063  12965.891602   \n",
       "...                  ...           ...           ...           ...   \n",
       "2021-10-12  56041.058594  57484.789063  53967.847656  53805.984375   \n",
       "2021-10-13  57401.097656  56041.058594  57484.789063  53967.847656   \n",
       "2021-10-14  57321.523438  57401.097656  56041.058594  57484.789063   \n",
       "2021-10-15  61593.949219  57321.523438  57401.097656  56041.058594   \n",
       "2021-10-18  62026.078125  61593.949219  57321.523438  57401.097656   \n",
       "\n",
       "                     p_4           p_5             v           v_1  \\\n",
       "Date                                                                 \n",
       "2020-10-21  11495.349609  11429.506836  4.341471e+10  3.091582e+10   \n",
       "2020-10-22  11322.123047  11495.349609  3.472976e+10  4.341471e+10   \n",
       "2020-10-23  11742.037109  11322.123047  2.897498e+10  3.472976e+10   \n",
       "2020-10-26  11916.334961  11742.037109  2.946146e+10  2.897498e+10   \n",
       "2020-10-27  12823.689453  11916.334961  3.374988e+10  2.946146e+10   \n",
       "...                  ...           ...           ...           ...   \n",
       "2021-10-12  55361.449219  51514.812500  4.108376e+10  4.263733e+10   \n",
       "2021-10-13  53805.984375  55361.449219  4.168425e+10  4.108376e+10   \n",
       "2021-10-14  53967.847656  53805.984375  3.661579e+10  4.168425e+10   \n",
       "2021-10-15  57484.789063  53967.847656  5.178008e+10  3.661579e+10   \n",
       "2021-10-18  56041.058594  57484.789063  3.805556e+10  5.178008e+10   \n",
       "\n",
       "                     v_2           v_3           v_4           v_5  \\\n",
       "Date                                                                 \n",
       "2020-10-21  2.386077e+10  2.563548e+10  2.448723e+10  2.410343e+10   \n",
       "2020-10-22  3.091582e+10  2.386077e+10  2.563548e+10  2.448723e+10   \n",
       "2020-10-23  4.341471e+10  3.091582e+10  2.386077e+10  2.563548e+10   \n",
       "2020-10-26  3.472976e+10  4.341471e+10  3.091582e+10  2.386077e+10   \n",
       "2020-10-27  2.897498e+10  3.472976e+10  4.341471e+10  3.091582e+10   \n",
       "...                  ...           ...           ...           ...   \n",
       "2021-10-12  3.480087e+10  3.680786e+10  4.903473e+10  3.587390e+10   \n",
       "2021-10-13  4.263733e+10  3.480087e+10  3.680786e+10  4.903473e+10   \n",
       "2021-10-14  4.108376e+10  4.263733e+10  3.480087e+10  3.680786e+10   \n",
       "2021-10-15  4.168425e+10  4.108376e+10  4.263733e+10  3.480087e+10   \n",
       "2021-10-18  3.661579e+10  4.168425e+10  4.108376e+10  4.263733e+10   \n",
       "\n",
       "               predicted  \n",
       "Date                      \n",
       "2020-10-21  11872.911698  \n",
       "2020-10-22  12797.198359  \n",
       "2020-10-23  12985.788904  \n",
       "2020-10-26  12907.444094  \n",
       "2020-10-27  13005.293406  \n",
       "...                  ...  \n",
       "2021-10-12  56843.062005  \n",
       "2021-10-13  56093.497858  \n",
       "2021-10-14  57295.301234  \n",
       "2021-10-15  56885.615246  \n",
       "2021-10-18  61259.372469  \n",
       "\n",
       "[250 rows x 13 columns]"
      ]
     },
     "execution_count": 25,
     "metadata": {},
     "output_type": "execute_result"
    }
   ],
   "source": [
    "df"
   ]
  },
  {
   "cell_type": "code",
   "execution_count": 26,
   "metadata": {
    "colab": {
     "base_uri": "https://localhost:8080/",
     "height": 295
    },
    "id": "vu5b6vfZiecf",
    "outputId": "bac24d95-f4bc-4344-dd5d-63deff030b93"
   },
   "outputs": [
    {
     "data": {
      "text/plain": [
       "<AxesSubplot:xlabel='Date'>"
      ]
     },
     "execution_count": 26,
     "metadata": {},
     "output_type": "execute_result"
    },
    {
     "data": {
      "image/png": "[encoded data removed]",
      "text/plain": [
       "<Figure size 432x288 with 1 Axes>"
      ]
     },
     "metadata": {
      "needs_background": "light"
     },
     "output_type": "display_data"
    }
   ],
   "source": [
    "df[[\"p\", \"predicted\"]].plot()"
   ]
  },
  {
   "cell_type": "code",
   "execution_count": 27,
   "metadata": {
    "colab": {
     "base_uri": "https://localhost:8080/"
    },
    "id": "D0DKN2mqilAh",
    "outputId": "3a680d0a-1d60-4279-d3fd-b0bbc25dd15d"
   },
   "outputs": [
    {
     "data": {
      "text/plain": [
       "3.9015761645142133"
      ]
     },
     "execution_count": 27,
     "metadata": {},
     "output_type": "execute_result"
    }
   ],
   "source": [
    "import numpy as np\n",
    "np.mean((abs(df[\"p\"] - df[\"predicted\"]) / df[\"p\"]) * 100)"
   ]
  }
 ],
 "metadata": {
  "colab": {
   "name": "Untitled1.ipynb",
   "provenance": []
  },
  "kernelspec": {
   "display_name": "Python 3 (ipykernel)",
   "language": "python",
   "name": "python3"
  },
  "language_info": {
   "codemirror_mode": {
    "name": "ipython",
    "version": 3
   },
   "file_extension": ".py",
   "mimetype": "text/x-python",
   "name": "python",
   "nbconvert_exporter": "python",
   "pygments_lexer": "ipython3",
   "version": "3.8.8"
  }
 },
 "nbformat": 4,
 "nbformat_minor": 1
}
